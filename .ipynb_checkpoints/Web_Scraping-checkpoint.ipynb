{
 "cells": [
  {
   "cell_type": "code",
   "execution_count": null,
   "metadata": {
    "collapsed": true
   },
   "outputs": [],
   "source": [
    "import pandas as pd"
   ]
  },
  {
   "cell_type": "code",
   "execution_count": null,
   "metadata": {
    "collapsed": true
   },
   "outputs": [],
   "source": [
    "countries_df=pd.read_csv('data/countries.csv')"
   ]
  },
  {
   "cell_type": "code",
   "execution_count": null,
   "metadata": {
    "collapsed": false
   },
   "outputs": [],
   "source": [
    "countries_df"
   ]
  },
  {
   "cell_type": "code",
   "execution_count": null,
   "metadata": {
    "collapsed": true
   },
   "outputs": [],
   "source": [
    "import urllib\n",
    "\n",
    "#link=\"http://spreadsheets.google.com/pub?key=0ArtujvvFrPjVdERlTHZFQ2ZaUkpySHp$\n",
    "\n",
    "#urllib.request.urlretrieve(link,\"income_per_capita.xlsx\")\n",
    "\n",
    "complete_gdp=pd.read_excel('income_per_capita.xlsx')\n",
    "\n",
    "#print(complete_gdp.head())\n",
    "\n",
    "#Transformation of GDP data\n",
    "\n"
   ]
  },
  {
   "cell_type": "code",
   "execution_count": null,
   "metadata": {
    "collapsed": false
   },
   "outputs": [],
   "source": [
    "complete_gdp\n"
   ]
  },
  {
   "cell_type": "code",
   "execution_count": null,
   "metadata": {
    "collapsed": true
   },
   "outputs": [],
   "source": [
    "complete_gdp.index=complete_gdp[complete_gdp.columns[0]]"
   ]
  },
  {
   "cell_type": "code",
   "execution_count": null,
   "metadata": {
    "collapsed": false
   },
   "outputs": [],
   "source": [
    "complete_gdp"
   ]
  },
  {
   "cell_type": "code",
   "execution_count": null,
   "metadata": {
    "collapsed": true
   },
   "outputs": [],
   "source": [
    "transform=complete_gdp.drop(complete_gdp.columns[0],axis=1)"
   ]
  },
  {
   "cell_type": "code",
   "execution_count": null,
   "metadata": {
    "collapsed": false
   },
   "outputs": [],
   "source": [
    "transform"
   ]
  },
  {
   "cell_type": "code",
   "execution_count": null,
   "metadata": {
    "collapsed": true
   },
   "outputs": [],
   "source": [
    "transform.columns=map(lambda x:int(x),transform.columns)"
   ]
  },
  {
   "cell_type": "code",
   "execution_count": null,
   "metadata": {
    "collapsed": true
   },
   "outputs": [],
   "source": [
    "transform=transform.T"
   ]
  },
  {
   "cell_type": "code",
   "execution_count": null,
   "metadata": {
    "collapsed": false
   },
   "outputs": [],
   "source": [
    "transform"
   ]
  },
  {
   "cell_type": "code",
   "execution_count": null,
   "metadata": {
    "collapsed": true
   },
   "outputs": [],
   "source": [
    "years=2000"
   ]
  },
  {
   "cell_type": "code",
   "execution_count": null,
   "metadata": {
    "collapsed": true
   },
   "outputs": [],
   "source": [
    "import matplotlib.pyplot as plt"
   ]
  },
  {
   "cell_type": "code",
   "execution_count": null,
   "metadata": {
    "collapsed": false
   },
   "outputs": [],
   "source": [
    "plt.hist(transform.ix[years].dropna().values, bins=20)"
   ]
  },
  {
   "cell_type": "code",
   "execution_count": null,
   "metadata": {
    "collapsed": false
   },
   "outputs": [],
   "source": [
    "plt.xlabel(\"Income per person\")"
   ]
  },
  {
   "cell_type": "code",
   "execution_count": null,
   "metadata": {
    "collapsed": false
   },
   "outputs": [],
   "source": [
    "plt.ylabel(\"Frequency\")"
   ]
  },
  {
   "cell_type": "code",
   "execution_count": null,
   "metadata": {
    "collapsed": true
   },
   "outputs": [],
   "source": [
    "plt.show()"
   ]
  },
  {
   "cell_type": "code",
   "execution_count": null,
   "metadata": {
    "collapsed": true
   },
   "outputs": [],
   "source": [
    "import numpy as np"
   ]
  },
  {
   "cell_type": "code",
   "execution_count": null,
   "metadata": {
    "collapsed": false
   },
   "outputs": [],
   "source": [
    "plt.hist(np.log10(transform.ix[years].dropna().values),bins=20)"
   ]
  },
  {
   "cell_type": "code",
   "execution_count": null,
   "metadata": {
    "collapsed": false
   },
   "outputs": [],
   "source": [
    "plt.title('Years: %i'%years)"
   ]
  },
  {
   "cell_type": "code",
   "execution_count": null,
   "metadata": {
    "collapsed": true
   },
   "outputs": [],
   "source": []
  },
  {
   "cell_type": "code",
   "execution_count": null,
   "metadata": {
    "collapsed": false
   },
   "outputs": [],
   "source": [
    "plt.xlabel(\"Income per person in log10 scale\")"
   ]
  },
  {
   "cell_type": "code",
   "execution_count": null,
   "metadata": {
    "collapsed": false
   },
   "outputs": [],
   "source": [
    "plt.ylabel(\"Frequency\")"
   ]
  },
  {
   "cell_type": "code",
   "execution_count": null,
   "metadata": {
    "collapsed": true
   },
   "outputs": [],
   "source": [
    "plt.show()"
   ]
  },
  {
   "cell_type": "code",
   "execution_count": null,
   "metadata": {
    "collapsed": false
   },
   "outputs": [],
   "source": [
    "def MergeDF(year):\n",
    "    data_GDP=pd.DataFrame(transform.ix[year].values,columns=[\"Income\"])\n",
    "    data_GDP['Country']=transform.columns\n",
    "    combined=pd.merge(data_GDP,countries_df,on=['Country'])\n",
    "    combined.Income=np.round(combined.Income,2)\n",
    "    return combined"
   ]
  },
  {
   "cell_type": "code",
   "execution_count": null,
   "metadata": {
    "collapsed": false
   },
   "outputs": [],
   "source": [
    "MergeDF(1980)"
   ]
  },
  {
   "cell_type": "code",
   "execution_count": 50,
   "metadata": {
    "collapsed": true
   },
   "outputs": [],
   "source": [
    "years = np.arange(1980,2020,10)"
   ]
  },
  {
   "cell_type": "code",
   "execution_count": 51,
   "metadata": {
    "collapsed": false
   },
   "outputs": [
    {
     "data": {
      "text/plain": [
       "array([1980, 1990, 2000, 2010])"
      ]
     },
     "execution_count": 51,
     "metadata": {},
     "output_type": "execute_result"
    }
   ],
   "source": [
    "years"
   ]
  },
  {
   "cell_type": "code",
   "execution_count": 53,
   "metadata": {
    "collapsed": true
   },
   "outputs": [],
   "source": [
    "for year in years:\n",
    "    df=MergeDF(year)\n",
    "    df.boxplot('Income',by='Continent',rot=90)\n",
    "    plt.title(\"Year: %i\" %year)\n",
    "    plt.xlabel(\"Continents\")\n",
    "    plt.ylabel(\"Income per person\")\n",
    "    plt.ylim(10**2,10**5)\n",
    "    plt.show()"
   ]
  },
  {
   "cell_type": "code",
   "execution_count": 54,
   "metadata": {
    "collapsed": true
   },
   "outputs": [],
   "source": [
    "import urllib"
   ]
  },
  {
   "cell_type": "code",
   "execution_count": 55,
   "metadata": {
    "collapsed": true
   },
   "outputs": [],
   "source": [
    "import urllib.request"
   ]
  },
  {
   "cell_type": "code",
   "execution_count": 56,
   "metadata": {
    "collapsed": true
   },
   "outputs": [],
   "source": [
    "from bs4 import BeautifulSoup"
   ]
  },
  {
   "cell_type": "code",
   "execution_count": 57,
   "metadata": {
    "collapsed": true
   },
   "outputs": [],
   "source": [
    "soup=BeautifulSoup(urllib.request.urlopen(\"http://www.data.gov/\").read())"
   ]
  },
  {
   "cell_type": "code",
   "execution_count": 58,
   "metadata": {
    "collapsed": false
   },
   "outputs": [
    {
     "data": {
      "text/plain": [
       "<!DOCTYPE html>\n",
       "<html class=\"no-js\" dir=\"ltr\" lang=\"en-US\" prefix=\"og: http://ogp.me/ns#\">\n",
       "<head>\n",
       "<meta charset=\"utf-8\"/>\n",
       "<meta content=\"IE=edge\" http-equiv=\"X-UA-Compatible\"/><script type=\"text/javascript\">window.NREUM||(NREUM={}),__nr_require=function(t,e,n){function r(n){if(!e[n]){var o=e[n]={exports:{}};t[n][0].call(o.exports,function(e){var o=t[n][1][e];return r(o||e)},o,o.exports)}return e[n].exports}if(\"function\"==typeof __nr_require)return __nr_require;for(var o=0;o<n.length;o++)r(n[o]);return r}({QJf3ax:[function(t,e){function n(){}function r(t){function e(t){return t&&t instanceof n?t:t?a(t,i,o):o()}function c(n,r,o){t&&t(n,r,o);for(var i=e(o),a=f(n),c=a.length,u=0;c>u;u++)a[u].apply(i,r);return i}function u(t,e){p[t]=f(t).concat(e)}function f(t){return p[t]||[]}function s(){return r(c)}var p={};return{on:u,emit:c,create:s,listeners:f,context:e,_events:p}}function o(){return new n}var i=\"nr@context\",a=t(\"gos\");e.exports=r()},{gos:\"7eSDFh\"}],ee:[function(t,e){e.exports=t(\"QJf3ax\")},{}],3:[function(t,e){function n(t){return function(){r(t,[(new Date).getTime()].concat(i(arguments)))}}var r=t(\"handle\"),o=t(1),i=t(2);\"undefined\"==typeof window.newrelic&&(newrelic=window.NREUM);var a=[\"setPageViewName\",\"addPageAction\",\"setCustomAttribute\",\"finished\",\"addToTrace\",\"inlineHit\",\"noticeError\"];o(a,function(t,e){window.NREUM[e]=n(\"api-\"+e)}),e.exports=window.NREUM},{1:12,2:13,handle:\"D5DuLP\"}],gos:[function(t,e){e.exports=t(\"7eSDFh\")},{}],\"7eSDFh\":[function(t,e){function n(t,e,n){if(r.call(t,e))return t[e];var o=n();if(Object.defineProperty&&Object.keys)try{return Object.defineProperty(t,e,{value:o,writable:!0,enumerable:!1}),o}catch(i){}return t[e]=o,o}var r=Object.prototype.hasOwnProperty;e.exports=n},{}],D5DuLP:[function(t,e){function n(t,e,n){return r.listeners(t).length?r.emit(t,e,n):void(r.q&&(r.q[t]||(r.q[t]=[]),r.q[t].push(e)))}var r=t(\"ee\").create();e.exports=n,n.ee=r,r.q={}},{ee:\"QJf3ax\"}],handle:[function(t,e){e.exports=t(\"D5DuLP\")},{}],XL7HBI:[function(t,e){function n(t){var e=typeof t;return!t||\"object\"!==e&&\"function\"!==e?-1:t===window?0:i(t,o,function(){return r++})}var r=1,o=\"nr@id\",i=t(\"gos\");e.exports=n},{gos:\"7eSDFh\"}],id:[function(t,e){e.exports=t(\"XL7HBI\")},{}],G9z0Bl:[function(t,e){function n(){if(!v++){var t=l.info=NREUM.info,e=f.getElementsByTagName(\"script\")[0];if(t&&t.licenseKey&&t.applicationID&&e){c(p,function(e,n){t[e]||(t[e]=n)});var n=\"https\"===s.split(\":\")[0]||t.sslForHttp;l.proto=n?\"https://\":\"http://\",a(\"mark\",[\"onload\",i()]);var r=f.createElement(\"script\");r.src=l.proto+t.agent,e.parentNode.insertBefore(r,e)}}}function r(){\"complete\"===f.readyState&&o()}function o(){a(\"mark\",[\"domContent\",i()])}function i(){return(new Date).getTime()}var a=t(\"handle\"),c=t(1),u=window,f=u.document;t(2);var s=(\"\"+location).split(\"?\")[0],p={beacon:\"bam.nr-data.net\",errorBeacon:\"bam.nr-data.net\",agent:\"js-agent.newrelic.com/nr-852.min.js\"},d=window.XMLHttpRequest&&XMLHttpRequest.prototype&&XMLHttpRequest.prototype.addEventListener&&!/CriOS/.test(navigator.userAgent),l=e.exports={offset:i(),origin:s,features:{},xhrWrappable:d};f.addEventListener?(f.addEventListener(\"DOMContentLoaded\",o,!1),u.addEventListener(\"load\",n,!1)):(f.attachEvent(\"onreadystatechange\",r),u.attachEvent(\"onload\",n)),a(\"mark\",[\"firstbyte\",i()]);var v=0},{1:12,2:3,handle:\"D5DuLP\"}],loader:[function(t,e){e.exports=t(\"G9z0Bl\")},{}],12:[function(t,e){function n(t,e){var n=[],o=\"\",i=0;for(o in t)r.call(t,o)&&(n[i]=e(o,t[o]),i+=1);return n}var r=Object.prototype.hasOwnProperty;e.exports=n},{}],13:[function(t,e){function n(t,e,n){e||(e=0),\"undefined\"==typeof n&&(n=t?t.length:0);for(var r=-1,o=n-e||0,i=Array(0>o?0:o);++r<o;)i[r]=t[e+r];return i}e.exports=n},{}]},{},[\"G9z0Bl\"]);</script>\n",
       "<title>Data.gov</title>\n",
       "<meta content=\"width=device-width, initial-scale=1\" name=\"viewport\"/>\n",
       "<!-- This site is optimized with the Yoast WordPress SEO plugin v2.1.1 - https://yoast.com/wordpress/plugins/seo/ -->\n",
       "<link href=\"http://www.data.gov/\" rel=\"canonical\"/>\n",
       "<meta content=\"en_US\" property=\"og:locale\"/>\n",
       "<meta content=\"website\" property=\"og:type\"/>\n",
       "<meta content=\"Data.gov\" property=\"og:title\"/>\n",
       "<meta content=\"The home of the U.S. Government’s open data Here you will find data, tools, and resources to conduct research, develop web and mobile applications, design data visualizations, and more.\" property=\"og:description\"/>\n",
       "<meta content=\"http://www.data.gov/\" property=\"og:url\"/>\n",
       "<meta content=\"Data.gov\" property=\"og:site_name\"/>\n",
       "<meta content=\"https://www.data.gov/media/2014/05/data_gov_logo_D_new.png\" property=\"og:image\"/>\n",
       "<script type=\"application/ld+json\">{\"@context\":\"http:\\/\\/schema.org\",\"@type\":\"WebSite\",\"url\":\"http:\\/\\/www.data.gov\\/\",\"name\":\"Data.gov\",\"potentialAction\":{\"@type\":\"SearchAction\",\"target\":\"http:\\/\\/www.data.gov\\/?s={search_term}\",\"query-input\":\"required name=search_term\"}}</script>\n",
       "<!-- / Yoast WordPress SEO plugin. -->\n",
       "<script type=\"text/javascript\">\n",
       "\t\t\twindow._wpemojiSettings = {\"baseUrl\":\"https:\\/\\/s.w.org\\/images\\/core\\/emoji\\/72x72\\/\",\"ext\":\".png\",\"source\":{\"concatemoji\":\"\\/wp\\/wp-includes\\/js\\/wp-emoji-release.min.js?ver=4.4.2\"}};\n",
       "\t\t\t!function(a,b,c){function d(a){var c,d=b.createElement(\"canvas\"),e=d.getContext&&d.getContext(\"2d\"),f=String.fromCharCode;return e&&e.fillText?(e.textBaseline=\"top\",e.font=\"600 32px Arial\",\"flag\"===a?(e.fillText(f(55356,56806,55356,56826),0,0),d.toDataURL().length>3e3):\"diversity\"===a?(e.fillText(f(55356,57221),0,0),c=e.getImageData(16,16,1,1).data.toString(),e.fillText(f(55356,57221,55356,57343),0,0),c!==e.getImageData(16,16,1,1).data.toString()):(\"simple\"===a?e.fillText(f(55357,56835),0,0):e.fillText(f(55356,57135),0,0),0!==e.getImageData(16,16,1,1).data[0])):!1}function e(a){var c=b.createElement(\"script\");c.src=a,c.type=\"text/javascript\",b.getElementsByTagName(\"head\")[0].appendChild(c)}var f,g;c.supports={simple:d(\"simple\"),flag:d(\"flag\"),unicode8:d(\"unicode8\"),diversity:d(\"diversity\")},c.DOMReady=!1,c.readyCallback=function(){c.DOMReady=!0},c.supports.simple&&c.supports.flag&&c.supports.unicode8&&c.supports.diversity||(g=function(){c.readyCallback()},b.addEventListener?(b.addEventListener(\"DOMContentLoaded\",g,!1),a.addEventListener(\"load\",g,!1)):(a.attachEvent(\"onload\",g),b.attachEvent(\"onreadystatechange\",function(){\"complete\"===b.readyState&&c.readyCallback()})),f=c.source||{},f.concatemoji?e(f.concatemoji):f.wpemoji&&f.twemoji&&(e(f.twemoji),e(f.wpemoji)))}(window,document,window._wpemojiSettings);\n",
       "\t\t</script>\n",
       "<style type=\"text/css\">\n",
       "img.wp-smiley,\n",
       "img.emoji {\n",
       "\tdisplay: inline !important;\n",
       "\tborder: none !important;\n",
       "\tbox-shadow: none !important;\n",
       "\theight: 1em !important;\n",
       "\twidth: 1em !important;\n",
       "\tmargin: 0 .07em !important;\n",
       "\tvertical-align: -0.1em !important;\n",
       "\tbackground: none !important;\n",
       "\tpadding: 0 !important;\n",
       "}\n",
       "</style>\n",
       "<link href=\"/app/plugins/q-and-a/css/q-a-plus.css?ver=1.0.6.2\" media=\"screen\" rel=\"stylesheet\"/>\n",
       "<link href=\"/app/plugins/simple-tooltips/zebra_tooltips.css?ver=4.4.2\" rel=\"stylesheet\"/>\n",
       "<link href=\"/app/plugins/contact-form-7/includes/css/styles.css?ver=4.3.1\" rel=\"stylesheet\"/>\n",
       "<link href=\"/app/plugins/m-wp-popup/css/colorbox/colorbox.css?ver=0.1\" rel=\"stylesheet\"/>\n",
       "<link href=\"/app/plugins/wp-rss-multi-importer/templates/templates.css?ver=4.4.2\" rel=\"stylesheet\"/>\n",
       "<link href=\"/app/plugins/wp-open311/public/assets/css/chosen.min.css?ver=1.0.0\" rel=\"stylesheet\"/>\n",
       "<link href=\"/app/plugins/wp-open311/public/assets/css/public.css?ver=1.0.0\" rel=\"stylesheet\"/>\n",
       "<link href=\"//fonts.googleapis.com/css?family=Abel%7CLato%3A100%2C300%2C400%2C700&amp;ver=4.4.2\" rel=\"stylesheet\"/>\n",
       "<link href=\"/app/themes/roots-nextdatagov/assets/css/main.min.css?ver=23706602fbbce859bd940336a8297921\" rel=\"stylesheet\"/>\n",
       "<link href=\"/app/themes/roots-nextdatagov/assets/css/rei.css?ver=4.4.2\" rel=\"stylesheet\"/>\n",
       "<script src=\"https://ajax.googleapis.com/ajax/libs/jquery/1.11.3/jquery.min.js\" type=\"text/javascript\"></script>\n",
       "<script defer=\"defer\" src=\"/app/plugins/custom-post-view-generator//libs/flowplayer/flowplayer-3.2.6.min.js\" type=\"text/javascript\"></script>\n",
       "<script defer=\"defer\" src=\"/app/plugins/custom-post-view-generator/libs/smartpaginator/smartpaginator.min.js\" type=\"text/javascript\"></script>\n",
       "<script defer=\"defer\" src=\"/app/plugins/custom-post-view-generator/libs/tablesorter/jquery-tablesorter-min.js\" type=\"text/javascript\"></script>\n",
       "<script src=\"//www.google.com/jsapi?ver=4.4.2\" type=\"text/javascript\"></script>\n",
       "<script defer=\"defer\" src=\"/app/plugins/m-wp-popup/js/wpp-popup-frontend.js?ver=0.1\" type=\"text/javascript\"></script>\n",
       "<script defer=\"defer\" src=\"/app/plugins/wp-open311/public/assets/js/chosen.jquery.min.js?ver=1.0.0\" type=\"text/javascript\"></script>\n",
       "<script defer=\"defer\" src=\"/app/plugins/wp-open311/public/assets/js/public.js?ver=1.0.0\" type=\"text/javascript\"></script>\n",
       "<script defer=\"defer\" src=\"/app/themes/roots-nextdatagov/assets/js/vendor/respond.min.js\" type=\"text/javascript\"></script>\n",
       "<script defer=\"defer\" src=\"/app/themes/roots-nextdatagov/assets/js/vendor/modernizr-2.7.1.min.js\" type=\"text/javascript\"></script>\n",
       "<script defer=\"defer\" src=\"https://cdn.datatables.net/1.10.8/js/jquery.dataTables.min.js\" type=\"text/javascript\"></script>\n",
       "<script defer=\"defer\" src=\"https://cdn.datatables.net/fixedcolumns/3.1.0/js/dataTables.fixedColumns.min.js\" type=\"text/javascript\"></script>\n",
       "<script defer=\"defer\" src=\"https://cdn.datatables.net/scroller/1.3.0/js/dataTables.scroller.min.js\" type=\"text/javascript\"></script>\n",
       "<script defer=\"defer\" src=\"/app/themes/roots-nextdatagov/assets/js/ext-link-handler.js?ver=4.4.2\" type=\"text/javascript\"></script>\n",
       "<script defer=\"defer\" id=\"_fed_an_ua_tag\" src=\"https://analytics.usa.gov/dap/dap.min.js?agency=GSA\" type=\"text/javascript\"></script>\n",
       "<script defer=\"defer\" src=\"/app/plugins/google-analyticator/external-tracking.min.js?ver=6.4.9\" type=\"text/javascript\"></script>\n",
       "<link href=\"http://www.data.gov/wp-json/\" rel=\"https://api.w.org/\"/>\n",
       "<!-- Q & A -->\n",
       "<noscript><link href=\"http://www.data.gov/app/plugins/q-and-a/css/q-a-plus-noscript.css?ver=1.0.6.2\" rel=\"stylesheet\" type=\"text/css\"/></noscript><!-- Q & A --><!-- Google Analytics Tracking by Google Analyticator 6.4.9: http://www.videousermanuals.com/google-analyticator/ -->\n",
       "<script type=\"text/javascript\">\n",
       "    var analyticsFileTypes = [''];\n",
       "    var analyticsSnippet = 'enabled';\n",
       "    var analyticsEventTracking = 'enabled';\n",
       "</script>\n",
       "<script type=\"text/javascript\">\n",
       "\tvar _gaq = _gaq || [];\n",
       "  \n",
       "\t_gaq.push(['_setAccount', 'UA-17367410-17']);\n",
       "    _gaq.push(['_addDevId', 'i9k95']); // Google Analyticator App ID with Google\n",
       "    _gaq.push(['_gat._anonymizeIp']);\n",
       "\t_gaq.push(['_trackPageview']);\n",
       "\t<!-- tracking for UA-42145528-2  start -->\n",
       "(function(i,s,o,g,r,a,m){i['GoogleAnalyticsObject']=r;i[r]=i[r]||function(){\n",
       "  (i[r].q=i[r].q||[]).push(arguments)},i[r].l=1*new Date();a=s.createElement(o),\n",
       "  m=s.getElementsByTagName(o)[0];a.async=1;a.src=g;m.parentNode.insertBefore(a,m)\n",
       "  })(window,document,'script','//www.google-analytics.com/analytics.js','ga');\n",
       "\n",
       "  ga('create', 'UA-42145528-2', 'auto');\n",
       "  ga('set', 'anonymizeIp', true);\n",
       "  ga('send', 'pageview');\n",
       "<!-- tracking for UA-42145528-2  end -->\n",
       "\n",
       "\t(function() {\n",
       "\t\tvar ga = document.createElement('script'); ga.type = 'text/javascript'; ga.async = true;\n",
       "\t\t                ga.src = ('https:' == document.location.protocol ? 'https://ssl' : 'http://www') + '.google-analytics.com/ga.js';\n",
       "\t\t                var s = document.getElementsByTagName('script')[0]; s.parentNode.insertBefore(ga, s);\n",
       "\t})();\n",
       "</script>\n",
       "<link href=\"http://www.data.gov/feed/\" rel=\"alternate\" title=\"Data.gov Feed\" type=\"application/rss+xml\"/>\n",
       "<link href=\"http://www.data.gov/app/themes/roots-nextdatagov/assets/img/favicon.ico\" rel=\"shortcut icon\"/>\n",
       "<link href=\"http://www.data.gov/app/themes/roots-nextdatagov/assets/img/favicon-120.png\" rel=\"icon\" sizes=\"120x120\" type=\"image/png\"/>\n",
       "<!--[if IE]>\n",
       "    <style type=\"text/css\">\n",
       "        #cboxClose{\n",
       "            top:-8px !important;\n",
       "            right:-8px !important;\n",
       "        }\n",
       "    </style>\n",
       "    <![endif]-->\n",
       "</head>\n",
       "<body class=\"home page\">\n",
       "<!--div class=\"banner disclaimer\">\n",
       "    <p></p><center>This is a demonstration site exploring the future of Data.gov. <span id=\"stop-disclaimer\"> Give us your feedback on <a href=\"https://twitter.com/usdatagov\" rel=\"external nofollow\" title=\"This link will direct you to an external website that may have different content and privacy policies from Data.gov.\" class=\"ext-link tooltips\" data-wpel-target=\"_blank\">Twitter</a>, <a href=\"http://quora.com\" rel=\"external nofollow\" title=\"This link will direct you to an external website that may have different content and privacy policies from Data.gov.\" class=\"ext-link tooltips\" data-wpel-target=\"_blank\">Quora</a></span>, <a href=\"https://github.com/GSA/datagov-design/\" rel=\"external nofollow\" title=\"This link will direct you to an external website that may have different content and privacy policies from Data.gov.\" class=\"ext-link tooltips\" data-wpel-target=\"_blank\">Github</a>, or <a href=\"/contact-engage\">contact us</a></center><p></p>\n",
       "</div-->\n",
       "<!--[if lt IE 8]>\n",
       "<div class=\"alert alert-warning\">\n",
       "    You are using an <strong>outdated</strong> browser. Please <a href=\"http://browsehappy.com/\" rel=\"external nofollow\" title=\"This link will direct you to an external website that may have different content and privacy policies from Data.gov.\" class=\"ext-link tooltips\" data-wpel-target=\"_blank\">upgrade your\n",
       "    browser</a> to improve your experience.</div>\n",
       "<![endif]-->\n",
       "<header>\n",
       "<div class=\"banner navbar navbar-default navbar-static-top yamm\" role=\"banner\">\n",
       "<div class=\"container\">\n",
       "<div class=\"searchbox-row skip-navigation\">\n",
       "<div class=\"sr-only skip-link\">\n",
       "<a href=\"#main\">Jump to Content</a>\n",
       "</div>\n",
       "<div>\n",
       "</div>\n",
       "</div>\n",
       "<div class=\"navbar-header\">\n",
       "<button class=\"navbar-toggle\" data-target=\".navbar-collapse\" data-toggle=\"collapse\" type=\"button\">\n",
       "<span class=\"sr-only\">Toggle navigation</span>\n",
       "<span class=\"icon-bar\"></span>\n",
       "<span class=\"icon-bar\"></span>\n",
       "<span class=\"icon-bar\"></span>\n",
       "</button>\n",
       "<a alt=\"Data.gov\" href=\"http://www.data.gov/\"><h1 class=\"navbar-brand\">Data.gov</h1></a>\n",
       "</div>\n",
       "<nav class=\"collapse navbar-collapse\" role=\"navigation\">\n",
       "<ul class=\"nav navbar-nav navbar-right\" id=\"menu-primary-navigation\"><li class=\"menu-data\"><a href=\"http://catalog.data.gov/dataset\">Data</a></li>\n",
       "<li class=\"dropdown yamm-fw menu-topics\"><a class=\"dropdown-toggle\" data-target=\"#\" data-toggle=\"dropdown\" href=\"http://www.data.gov/communities/\">Topics <b class=\"caret\"></b></a>\n",
       "<ul class=\"dropdown-menu topics\">\n",
       "<li class=\"menu-agriculture topic-food\"><a href=\"http://www.data.gov/food/\"><i></i><span>Agriculture</span></a></li>\n",
       "<li class=\"menu-business topic-business\"><a href=\"http://www.data.gov/business/\"><i></i><span>Business</span></a></li>\n",
       "<li class=\"menu-climate topic-climate\"><a href=\"http://www.data.gov/climate/\"><i></i><span>Climate</span></a></li>\n",
       "<li class=\"menu-consumer topic-consumer\"><a href=\"http://www.data.gov/consumer/\"><i></i><span>Consumer</span></a></li>\n",
       "<li class=\"menu-ecosystems topic-ecosystems\"><a href=\"http://www.data.gov/ecosystems/\"><i></i><span>Ecosystems</span></a></li>\n",
       "<li class=\"menu-education topic-education\"><a href=\"http://www.data.gov/education/\"><i></i><span>Education</span></a></li>\n",
       "<li class=\"menu-energy topic-energy\"><a href=\"http://www.data.gov/energy/\"><i></i><span>Energy</span></a></li>\n",
       "<li class=\"menu-finance topic-finance\"><a href=\"http://www.data.gov/finance/\"><i></i><span>Finance</span></a></li>\n",
       "<li class=\"menu-health topic-health\"><a href=\"http://www.data.gov/health/\"><i></i><span>Health</span></a></li>\n",
       "<li class=\"menu-local-government topic-local\"><a href=\"/local\"><i></i><span>Local Government</span></a></li>\n",
       "<li class=\"menu-manufacturing topic-manufacturing\"><a href=\"http://www.data.gov/manufacturing/\"><i></i><span>Manufacturing</span></a></li>\n",
       "<li class=\"menu-ocean topic-ocean\"><a href=\"http://www.data.gov/ocean/\"><i></i><span>Ocean</span></a></li>\n",
       "<li class=\"menu-public-safety topic-safety\"><a href=\"http://www.data.gov/safety/\"><i></i><span>Public Safety</span></a></li>\n",
       "<li class=\"menu-science-research topic-research\"><a href=\"http://www.data.gov/research/\"><i></i><span>Science &amp; Research</span></a></li>\n",
       "</ul>\n",
       "</li>\n",
       "<li class=\"menu-impact\"><a href=\"http://www.data.gov/impact/\">Impact</a></li>\n",
       "<li class=\"menu-applications\"><a href=\"http://www.data.gov/applications\">Applications</a></li>\n",
       "<li class=\"menu-developers\"><a href=\"http://www.data.gov/developers/\">Developers</a></li>\n",
       "<li class=\"menu-contact\"><a href=\"http://www.data.gov/contact\">Contact</a></li>\n",
       "</ul>\n",
       "</nav>\n",
       "</div>\n",
       "<div aria-hidden=\"true\" class=\"tooltip\" id=\"external_disclaimer\" role=\"tooltip\">This link will direct you to an external website that may have different content and privacy policies from Data.gov.\n",
       "    </div>\n",
       "</div>\n",
       "<div class=\"jumbotron\">\n",
       "<div class=\"container\">\n",
       "<h1>The home of the U.S. Government’s open data</h1>\n",
       "<p>Here you will find data, tools, and resources to conduct research, develop web and mobile applications, design data visualizations, and <a href=\"/about\" style=\"color:#fff; text-decoration:underline\">more</a>.</p>\n",
       "<div id=\"wpp_popup_post_end_element\" style=\"display: block !important; margin:0 !important; padding: 0 !important\"></div> </div><!--/.container-->\n",
       "</div><!--/.jumbotron-->\n",
       "<div class=\"header banner frontpage-search\">\n",
       "<div class=\"container\">\n",
       "<div class=\"text-center getstarted\">\n",
       "<h4><label for=\"search-header\">Get Started<br/>\n",
       "<small>Search over <a href=\"/metrics\">194,594 datasets</a>\n",
       "</small>\n",
       "<br/><i class=\"fa fa-caret-down\"></i></label></h4>\n",
       "</div>\n",
       "<form action=\"//catalog.data.gov/dataset\" class=\"search-form form-inline no-padding col-md-12 col-lg-12\" method=\"get\" role=\"search\">\n",
       "<div class=\"input-group\">\n",
       "<input class=\"search-field form-control\" data-strings='{\"targets\":[\"Monthly House Price Indexes\",\"Health Care Provider Charge Data\",\"Credit Card Complaints\",\"Manufacturing &amp; Trade Inventories &amp; Sales\",\"Federal Student Loan Program Data\"]}' id=\"search-header\" name=\"q\" placeholder=\"Search Data.gov\" title=\"Example searches: Monthly House Price Indexes, Health Care Provider Charge Data, Credit Card Complaints, Manufacturing &amp; Trade Inventories &amp; Sales, Federal Student Loan Program Data\" type=\"search\" value=\"\"/>\n",
       "<input name=\"sort\" type=\"hidden\" value=\"score desc, name asc\"/>\n",
       "<span class=\"input-group-btn\">\n",
       "<button class=\"search-submit btn btn-default\" type=\"submit\">\n",
       "<i class=\"fa fa-search\"></i>\n",
       "<span class=\"sr-only\">Search</span>\n",
       "</button>\n",
       "</span>\n",
       "</div>\n",
       "</form>\n",
       "</div><!--/.container-->\n",
       "</div>\n",
       "</header>\n",
       "<div role=\"document\">\n",
       "<div class=\"content\">\n",
       "<main class=\"main\" id=\"main\" role=\"main\">\n",
       "<div class=\"wrap container\">\n",
       "<div class=\"page-header\">\n",
       "<h1>Browse Topics</h1>\n",
       "</div>\n",
       "<ul class=\"topics\">\n",
       "<li class=\"topic-food\">\n",
       "<a href=\"/food\"><i></i><span>Agriculture</span></a>\n",
       "</li>\n",
       "<li class=\"topic-business\">\n",
       "<a href=\"/business\"><i></i><span>Business</span></a>\n",
       "</li>\n",
       "<li class=\"topic-climate\">\n",
       "<a href=\"/climate\"><i></i><span>Climate</span></a>\n",
       "</li>\n",
       "<li class=\"topic-consumer\">\n",
       "<a href=\"/consumer\"><i></i><span>Consumer</span></a>\n",
       "</li>\n",
       "<li class=\"topic-ecosystems\">\n",
       "<a href=\"/ecosystems\"><i></i><span>Ecosystems</span></a>\n",
       "</li>\n",
       "<li class=\"topic-education\">\n",
       "<a href=\"/education\"><i></i><span>Education</span></a>\n",
       "</li>\n",
       "<li class=\"topic-energy\">\n",
       "<a href=\"/energy\"><i></i><span>Energy</span></a>\n",
       "</li>\n",
       "<li class=\"topic-finance\">\n",
       "<a href=\"/finance\"><i></i><span>Finance</span></a>\n",
       "</li>\n",
       "<li class=\"topic-health\">\n",
       "<a href=\"/health\"><i></i><span>Health</span></a>\n",
       "</li>\n",
       "<li class=\"topic-local\">\n",
       "<a href=\"/local\"><i></i><span>Local Government</span></a>\n",
       "</li>\n",
       "<li class=\"topic-manufacturing\">\n",
       "<a href=\"/manufacturing\"><i></i><span>Manufacturing</span></a>\n",
       "</li>\n",
       "<li class=\"topic-ocean\">\n",
       "<a href=\"/ocean\"><i></i><span>Ocean</span></a>\n",
       "</li>\n",
       "<li class=\"topic-safety\">\n",
       "<a href=\"/safety\"><i></i><span>Public Safety</span></a>\n",
       "</li>\n",
       "<li class=\"topic-research\">\n",
       "<a href=\"/research\"><i></i><span>Science &amp; Research</span></a>\n",
       "</li>\n",
       "</ul>\n",
       "</div><!--/.container-->\n",
       "<section class=\"wrap wrap-lightblue\" id=\"highlights\">\n",
       "<div class=\"container\">\n",
       "<div class=\"page-header\">\n",
       "<h1>Highlights</h1>\n",
       "</div>\n",
       "<div class=\"carousel highlights slide\" id=\"highlightsCarousel\">\n",
       "<!-- Carousel items -->\n",
       "<div class=\"carousel-inner\" id=\"highlightsCarouselInner\">\n",
       "<div class=\"highlight item active \">\n",
       "<header>\n",
       "<h2 class=\"entry-title\" style=\"width:750px;float:left;\">Join the Third Annual Safety Datapalooza Livestream</h2>\n",
       "</header>\n",
       "<br clear=\"all\"/>\n",
       "<article class=\"no-image\">\n",
       "<p>The Third Annual Safety Datapalooza is being held today from 9 AM to 1 PM ET at the U.S. Patent and Trademark Office. The event will be livestreamed at <a class=\"ext-link tooltips\" data-wpel-target=\"_blank\" href=\"http://livestream.com/uspto/SafetyDatapalooza\" rel=\"external nofollow\" title=\"This link will direct you to an external website that may have different content and privacy policies from Data.gov.\">http://livestream.com/uspto/SafetyDatapalooza</a>.</p>\n",
       "<p>From 10:50 – 11:30 AM ET, the Innovation for Disaster Response and Recovery Initiative will be featured during a panel moderated by the White House Office of Science and Technology Policy. Panelists from the National Institutes of Health, U.S. Department of Homeland Security, U.S. Department of Energy, U.S. Geological Survey, and the Data.gov team will discuss recent technology and innovation milestones, #opendata efforts, and opportunities for public engagement.</p>\n",
       "<p>This year’s Safety Datapalooza will provide an overview of ongoing programs as well as new commitments. Senior government representatives will join innovators from private, nonprofit, and academic organizations, sharing examples of projects that have used freely available government data to build products, services, and apps that advance public safety in creative and powerful ways.</p>\n",
       "<p>The event will include new safety data resources in the areas of transportation, food, occupational, and consumer product safety, as well as tools to improve disaster preparedness and emergency response.</p>\n",
       "<p>Follow @SafetyDataGov on Twitter and #SafetyData #DisasterTech for the latest information about the event and ongoing efforts.</p>\n",
       "<div id=\"wpp_popup_post_end_element\" style=\"display: block !important; margin:0 !important; padding: 0 !important\"></div> </article>\n",
       "</div><!--/.highlight-->\n",
       "</div>\n",
       "<div class=\"pull-right\">\n",
       "<a class=\"more-link\" href=\"/highlights\" style=\"color:#fff;\">More Highlights</a>\n",
       "</div>\n",
       "</div>\n",
       "</div>\n",
       "<!--/.container-->\n",
       "</section><!--/.wrap-lightblue-->\n",
       "<div class=\"wrap container\">\n",
       "<section class=\"updates\">\n",
       "<div class=\"page-header\">\n",
       "<h1>Updates</h1>\n",
       "</div>\n",
       "<article class=\"post-20904182 post type-post status-publish format-standard hentry category-food\">\n",
       "<header>\n",
       "<h5 class=\"category category-header topic-food\"><a href=\"/food\"><i></i><span>Agriculture</span></a>\n",
       "</h5>\n",
       "<h2 class=\"entry-title\"><a href=\"/food/farmplenty/\" id=\"post-title-20904182\">FarmPlenty</a></h2>\n",
       "<div class=\"entry-meta\" xmlns=\"//www.w3.org/1999/html\">\n",
       "<time class=\"published\" datetime=\"2016-02-18T13:19:58+00:00\">February 18, 2016  <i>By Data.gov</i></time>\n",
       "</div>\n",
       "</header>\n",
       "<div class=\"entry-summary\">\n",
       "<p><a class=\"ext-link tooltips ext-link tooltips\" data-wpel-target=\"_blank\" href=\"http://farmplenty.com/\" rel=\"external nofollow\" title=\"This link will direct you to an external website that may have different content and privacy policies from Data.gov.\">FarmPlenty</a> helps farmers better analyze U.S. Department of Agriculture (USDA) open data on crops grown within a five mile radius of their farms. Inspired by his conversations with farmers on the challenges faced in predicting crop yields and consumer demand, founder George Lee built … <a aria-describedby=\"post-title-20904182\" href=\"http://www.data.gov/food/farmplenty/\">Continued</a></p>\n",
       "</div>\n",
       "</article>\n",
       "<article class=\"post-20890632 post type-post status-publish format-standard hentry category-meta\">\n",
       "<header>\n",
       "<h5 class=\"category category-header topic-meta\"><a href=\"/meta\"><i></i><span>Meta - The Data.gov Blog</span></a>\n",
       "</h5>\n",
       "<h2 class=\"entry-title\"><a href=\"/meta/farmplenty-an-opendata-impact/\" id=\"post-title-20890632\">FarmPlenty: an #opendata impact</a></h2>\n",
       "<div class=\"entry-meta\" xmlns=\"//www.w3.org/1999/html\">\n",
       "<time class=\"published\" datetime=\"2016-02-17T16:35:20+00:00\">February 17, 2016  <i>By Data.gov</i></time>\n",
       "</div>\n",
       "</header>\n",
       "<div class=\"entry-summary\">\n",
       "<p><a class=\"ext-link tooltips ext-link tooltips\" data-wpel-target=\"_blank\" href=\"http://farmplenty.com/\" rel=\"external nofollow\" title=\"This link will direct you to an external website that may have different content and privacy policies from Data.gov.\">FarmPlenty</a> helps farmers better analyze U.S. Department of Agriculture (USDA) open data on crops grown within a five mile radius of their farms. Inspired by his conversations with farmers on the challenges faced in predicting crop yields and consumer demand, founder George Lee built … <a aria-describedby=\"post-title-20890632\" href=\"http://www.data.gov/meta/farmplenty-an-opendata-impact/\">Continued</a></p>\n",
       "</div>\n",
       "</article>\n",
       "<article class=\"post-20808812 post type-post status-publish format-standard hentry category-ecosystems\">\n",
       "<header>\n",
       "<h5 class=\"category category-header topic-ecosystems\"><a href=\"/ecosystems\"><i></i><span>Ecosystems</span></a>\n",
       "</h5>\n",
       "<h2 class=\"entry-title\"><a href=\"/ecosystems/invasive-species-data-national-invasive-species-awareness-week/\" id=\"post-title-20808812\">Invasive Species Data and National Invasive Species Awareness Week</a></h2>\n",
       "<div class=\"entry-meta\" xmlns=\"//www.w3.org/1999/html\">\n",
       "<time class=\"published\" datetime=\"2016-02-12T15:00:17+00:00\">February 12, 2016  <i>By Elizabeth Martin</i></time>\n",
       "</div>\n",
       "</header>\n",
       "<div class=\"entry-summary\">\n",
       "<p>Invasive species are plants, animals, or pathogens that are non-native (or alien) to an ecosystem and whose introduction causes or is likely to cause harm. Invasive species are considered the second greatest cause of biodiversity loss. Recognizing the threat that … <a aria-describedby=\"post-title-20808812\" href=\"http://www.data.gov/ecosystems/invasive-species-data-national-invasive-species-awareness-week/\">Continued</a></p>\n",
       "</div>\n",
       "</article>\n",
       "<article class=\"col-md-4 col-lg-4 post-20925481 post type-post status-publish format-status hentry category-developers tag-usdatagov post_format-post-format-status\">\n",
       "<header>\n",
       "<div class=\"tweet-author\">\n",
       "<span class=\"author-image\">\n",
       "<img alt=\"twitter\" src=\"http://www.data.gov/app/themes/roots-nextdatagov/assets/img/twitter.png\"/>\n",
       "</span>\n",
       "<a class=\"author-link ext-link tooltips\" data-wpel-target=\"_blank\" href=\"https://twitter.com/usdatagov\" rel=\"external nofollow\" title=\"This link will direct you to an external website that may have different content and privacy policies from Data.gov.\">\n",
       "<div>\n",
       "<span class=\"author-name\">\n",
       "                        usdatagov                    </span>\n",
       "<span class=\"author-handle\">\n",
       "                            @usdatagov                        </span>\n",
       "</div>\n",
       "</a>\n",
       "</div>\n",
       "<div class=\"tweet-date\">\n",
       "                    February 19, 2016                </div>\n",
       "</header>\n",
       "<div class=\"body\">\n",
       "<p class=\"tweet_text\">FarmPlenty: an <a class=\"ext-link tooltips\" data-wpel-target=\"_blank\" href=\"http://twitter.com/search?q=%23opendata\" rel=\"external nofollow\" title=\"This link will direct you to an external website that may have different content and privacy policies from Data.gov.\">#opendata</a> impact <a class=\"ext-link tooltips\" data-wpel-target=\"_blank\" href=\"https://t.co/M9Ai0Mj57v\" rel=\"external nofollow\" title=\"This link will direct you to an external website that may have different content and privacy policies from Data.gov.\">https://t.co/M9Ai0Mj57v</a> <a class=\"ext-link tooltips\" data-wpel-target=\"_blank\" href=\"http://twitter.com/farmplenty\" rel=\"external nofollow\" title=\"This link will direct you to an external website that may have different content and privacy policies from Data.gov.\">@farmplenty</a> <a class=\"ext-link tooltips\" data-wpel-target=\"_blank\" href=\"http://twitter.com/USDA\" rel=\"external nofollow\" title=\"This link will direct you to an external website that may have different content and privacy policies from Data.gov.\">@USDA</a></p>\n",
       "<div id=\"wpp_popup_post_end_element\" style=\"display: block !important; margin:0 !important; padding: 0 !important\"></div> </div>\n",
       "</article>\n",
       "<article class=\"col-md-4 col-lg-4 post-20816381 post type-post status-publish format-status hentry category-developers tag-usdatagov post_format-post-format-status\">\n",
       "<header>\n",
       "<div class=\"tweet-author\">\n",
       "<span class=\"author-image\">\n",
       "<img alt=\"twitter\" src=\"http://www.data.gov/app/themes/roots-nextdatagov/assets/img/twitter.png\"/>\n",
       "</span>\n",
       "<a class=\"author-link ext-link tooltips\" data-wpel-target=\"_blank\" href=\"https://twitter.com/usdatagov\" rel=\"external nofollow\" title=\"This link will direct you to an external website that may have different content and privacy policies from Data.gov.\">\n",
       "<div>\n",
       "<span class=\"author-name\">\n",
       "                        usdatagov                    </span>\n",
       "<span class=\"author-handle\">\n",
       "                            @usdatagov                        </span>\n",
       "</div>\n",
       "</a>\n",
       "</div>\n",
       "<div class=\"tweet-date\">\n",
       "                    February 11, 2016                </div>\n",
       "</header>\n",
       "<div class=\"body\">\n",
       "<p class=\"tweet_text\"><a class=\"ext-link tooltips\" data-wpel-target=\"_blank\" href=\"http://twitter.com/search?q=%23OpenDataImpacts:\" rel=\"external nofollow\" title=\"This link will direct you to an external website that may have different content and privacy policies from Data.gov.\">#OpenDataImpacts:</a> Using <a class=\"ext-link tooltips\" data-wpel-target=\"_blank\" href=\"https://t.co/zTOIA0MBOB\" rel=\"external nofollow\" title=\"This link will direct you to an external website that may have different content and privacy policies from Data.gov.\">https://t.co/zTOIA0MBOB</a> To Develop Actionable Consumer Insights <a class=\"ext-link tooltips\" data-wpel-target=\"_blank\" href=\"http://twitter.com/Marketingland\" rel=\"external nofollow\" title=\"This link will direct you to an external website that may have different content and privacy policies from Data.gov.\">@Marketingland</a> <a class=\"ext-link tooltips\" data-wpel-target=\"_blank\" href=\"http://twitter.com/MMIAgency\" rel=\"external nofollow\" title=\"This link will direct you to an external website that may have different content and privacy policies from Data.gov.\">@MMIAgency</a> <a class=\"ext-link tooltips\" data-wpel-target=\"_blank\" href=\"https://t.co/uTGVWakR1o\" rel=\"external nofollow\" title=\"This link will direct you to an external website that may have different content and privacy policies from Data.gov.\">https://t.co/uTGVWakR1o</a></p>\n",
       "<div id=\"wpp_popup_post_end_element\" style=\"display: block !important; margin:0 !important; padding: 0 !important\"></div> </div>\n",
       "</article>\n",
       "<article class=\"col-md-4 col-lg-4 post-20789311 post type-post status-publish format-status hentry category-developers tag-usdatagov post_format-post-format-status\">\n",
       "<header>\n",
       "<div class=\"tweet-author\">\n",
       "<span class=\"author-image\">\n",
       "<img alt=\"twitter\" src=\"http://www.data.gov/app/themes/roots-nextdatagov/assets/img/twitter.png\"/>\n",
       "</span>\n",
       "<a class=\"author-link ext-link tooltips\" data-wpel-target=\"_blank\" href=\"https://twitter.com/usdatagov\" rel=\"external nofollow\" title=\"This link will direct you to an external website that may have different content and privacy policies from Data.gov.\">\n",
       "<div>\n",
       "<span class=\"author-name\">\n",
       "                        usdatagov                    </span>\n",
       "<span class=\"author-handle\">\n",
       "                            @usdatagov                        </span>\n",
       "</div>\n",
       "</a>\n",
       "</div>\n",
       "<div class=\"tweet-date\">\n",
       "                    February 9, 2016                </div>\n",
       "</header>\n",
       "<div class=\"body\">\n",
       "<p class=\"tweet_text\"><a class=\"ext-link tooltips\" data-wpel-target=\"_blank\" href=\"http://twitter.com/search?q=%23OpenData\" rel=\"external nofollow\" title=\"This link will direct you to an external website that may have different content and privacy policies from Data.gov.\">#OpenData</a> <a class=\"ext-link tooltips\" data-wpel-target=\"_blank\" href=\"http://twitter.com/ALALibrary\" rel=\"external nofollow\" title=\"This link will direct you to an external website that may have different content and privacy policies from Data.gov.\">@ALALibrary</a> names <a class=\"ext-link tooltips\" data-wpel-target=\"_blank\" href=\"http://twitter.com/usdatagov\" rel=\"external nofollow\" title=\"This link will direct you to an external website that may have different content and privacy policies from Data.gov.\">@usdatagov</a> one of the three top business websites for 2016 <a class=\"ext-link tooltips\" data-wpel-target=\"_blank\" href=\"https://t.co/FToI43BtvY\" rel=\"external nofollow\" title=\"This link will direct you to an external website that may have different content and privacy policies from Data.gov.\">https://t.co/FToI43BtvY</a></p>\n",
       "<div id=\"wpp_popup_post_end_element\" style=\"display: block !important; margin:0 !important; padding: 0 !important\"></div> </div>\n",
       "</article>\n",
       "</section>\n",
       "</div><!--/.container-->\n",
       "</main>\n",
       "<!-- /.main -->\n",
       "</div>\n",
       "<!-- /.content -->\n",
       "</div>\n",
       "<!-- /.wrap -->\n",
       "<footer class=\"content-info\" role=\"contentinfo\">\n",
       "<div class=\"container\">\n",
       "<div class=\"row\">\n",
       "<!--\n",
       "    <div class=\"col-lg-4\">\n",
       "            <p>&copy; 2016 Data.gov</p>\n",
       "    </div>\n",
       "    -->\n",
       "<div class=\"col-md-6 col-lg-6\">\n",
       "<div class=\"footer-logo\">\n",
       "<a alt=\"Data.gov\" class=\"logo-brand\" href=\"http://www.data.gov/\">Data.gov</a>\n",
       "</div>\n",
       "<ul class=\"nav\" id=\"menu-footer2\"><li class=\"menu-privacy-and-website-policies\"><a href=\"http://www.data.gov/privacy-policy\">Privacy and Website Policies</a></li>\n",
       "<li class=\"menu-usa-gov\"><a href=\"https://www.usa.gov/\">USA.GOV</a></li>\n",
       "<li class=\"menu-performance-gov\"><a href=\"http://www.performance.gov/\">PERFORMANCE.GOV</a></li>\n",
       "</ul> </div>\n",
       "<nav class=\"col-md-3 col-lg-3\" role=\"navigation\">\n",
       "<ul class=\"nav\" id=\"menu-footer\"><li class=\"menu-about\"><a href=\"http://www.data.gov/about\">About</a></li>\n",
       "<li class=\"menu-open-government\"><a href=\"http://www.data.gov/open-gov/\">Open Government</a></li>\n",
       "<li class=\"menu-blog\"><a href=\"http://www.data.gov/meta/\">Blog</a></li>\n",
       "<li class=\"menu-metrics\"><a href=\"http://www.data.gov/metrics\">Metrics</a></li>\n",
       "<li class=\"menu-events\"><a href=\"/events/\">Events</a></li>\n",
       "<li class=\"menu-log-in\"><a href=\"https://www.data.gov/wp/wp-login.php\">Log In</a></li>\n",
       "</ul> </nav>\n",
       "<div class=\"col-md-3 col-lg-3 social-nav\">\n",
       "<nav role=\"navigation\">\n",
       "<ul class=\"nav\" id=\"menu-social_navigation\"><li><a class=\"tooltips ext-link tooltips\" data-wpel-target=\"_blank\" href=\"https://twitter.com/usdatagov\" rel=\"external nofollow\" title=\"This link will direct you to an external website that may have different content and privacy policies from Data.gov.\"><i class=\"fa fa-twitter\"></i><span>Twitter</span></a></li>\n",
       "<li><a class=\"tooltips\" href=\"http://github.com/GSA/data.gov/\" title=\"This link will direct you to an external website that may have different content and privacy policies from Data.gov.\"><i class=\"fa fa-github tooltips\"></i><span>Github</span></a></li>\n",
       "</ul> </nav>\n",
       "</div>\n",
       "</div>\n",
       "</div>\n",
       "</footer>\n",
       "<script defer=\"defer\" src=\"/app/plugins/q-and-a/js/q-a-plus.js?ver=1.0.6.2\" type=\"text/javascript\"></script>\n",
       "<script defer=\"defer\" src=\"/app/plugins/simple-tooltips/zebra_tooltips.js?ver=4.4.2\" type=\"text/javascript\"></script>\n",
       "<script defer=\"defer\" src=\"/app/plugins/wp-external-links/js/wp-external-links.js?ver=1.54\" type=\"text/javascript\"></script>\n",
       "<script defer=\"defer\" src=\"/app/plugins/contact-form-7/includes/js/jquery.form.min.js?ver=3.51.0-2014.06.20\" type=\"text/javascript\"></script>\n",
       "<script type=\"text/javascript\">\n",
       "/* <![CDATA[ */\n",
       "var _wpcf7 = {\"loaderUrl\":\"http:\\/\\/www.data.gov\\/app\\/plugins\\/contact-form-7\\/images\\/ajax-loader.gif\",\"recaptchaEmpty\":\"Please verify that you are not a robot.\",\"sending\":\"Sending ...\",\"cached\":\"1\"};\n",
       "/* ]]> */\n",
       "</script>\n",
       "<script defer=\"defer\" src=\"/app/plugins/contact-form-7/includes/js/scripts.js?ver=4.3.1\" type=\"text/javascript\"></script>\n",
       "<script defer=\"defer\" src=\"/app/themes/roots-nextdatagov/assets/js/scripts.min.js?ver=ef6b28179899ea04cf86dbbfc9223298\" type=\"text/javascript\"></script>\n",
       "<script defer=\"defer\" src=\"/wp/wp-includes/js/wp-embed.min.js?ver=4.4.2\" type=\"text/javascript\"></script>\n",
       "<script type=\"text/javascript\">\n",
       "                    jQuery(function() {\n",
       "                                                \n",
       "                        jQuery(\".tooltips img\").closest(\".tooltips\").css(\"display\", \"inline-block\");\n",
       "                    \n",
       "                        new jQuery.Zebra_Tooltips(jQuery('.tooltips').not('.custom_m_bubble'), {\n",
       "                            'background_color':     '#000000',\n",
       "                            'color':\t\t\t\t'#ffffff',\n",
       "                            'max_width':  250,\n",
       "                            'opacity':    .95, \n",
       "                            'position':    'center'\n",
       "                        });\n",
       "                        \n",
       "                                            \n",
       "                    });\n",
       "                </script>\n",
       "<script type=\"text/javascript\">window.NREUM||(NREUM={});NREUM.info={\"beacon\":\"bam.nr-data.net\",\"licenseKey\":\"9e3c89b07f\",\"applicationID\":\"11899920\",\"transactionName\":\"YlRbYxcHWxAFBxVYClsebEUMSVwNAAEZHxVdQQ==\",\"queueTime\":0,\"applicationTime\":673,\"atts\":\"ThNYFV8dSB4=\",\"errorBeacon\":\"bam.nr-data.net\",\"agent\":\"\"}</script></body>\n",
       "</html>\n",
       "<!-- Performance optimized by W3 Total Cache. Learn more: http://www.w3-edge.com/wordpress-plugins/\n",
       "\n",
       " Served from: www.data.gov @ 2016-02-22 04:53:42 by W3 Total Cache -->"
      ]
     },
     "execution_count": 58,
     "metadata": {},
     "output_type": "execute_result"
    }
   ],
   "source": [
    "soup"
   ]
  },
  {
   "cell_type": "code",
   "execution_count": 59,
   "metadata": {
    "collapsed": true
   },
   "outputs": [],
   "source": [
    "datasets=soup.findAll(\"div\",class_=\"text-center getstarted\")"
   ]
  },
  {
   "cell_type": "code",
   "execution_count": 60,
   "metadata": {
    "collapsed": false
   },
   "outputs": [
    {
     "data": {
      "text/plain": [
       "[<div class=\"text-center getstarted\">\n",
       " <h4><label for=\"search-header\">Get Started<br/>\n",
       " <small>Search over <a href=\"/metrics\">194,594 datasets</a>\n",
       " </small>\n",
       " <br/><i class=\"fa fa-caret-down\"></i></label></h4>\n",
       " </div>]"
      ]
     },
     "execution_count": 60,
     "metadata": {},
     "output_type": "execute_result"
    }
   ],
   "source": [
    "datasets"
   ]
  },
  {
   "cell_type": "code",
   "execution_count": null,
   "metadata": {
    "collapsed": true
   },
   "outputs": [],
   "source": []
  }
 ],
 "metadata": {
  "kernelspec": {
   "display_name": "Python 3",
   "language": "python",
   "name": "python3"
  },
  "language_info": {
   "codemirror_mode": {
    "name": "ipython",
    "version": 3
   },
   "file_extension": ".py",
   "mimetype": "text/x-python",
   "name": "python",
   "nbconvert_exporter": "python",
   "pygments_lexer": "ipython3",
   "version": "3.4.3"
  }
 },
 "nbformat": 4,
 "nbformat_minor": 0
}
